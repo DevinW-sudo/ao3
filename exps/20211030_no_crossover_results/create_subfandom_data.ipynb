{
 "cells": [
  {
   "cell_type": "code",
   "execution_count": 1,
   "id": "4c8abb34",
   "metadata": {},
   "outputs": [],
   "source": [
    "import pickle"
   ]
  },
  {
   "cell_type": "code",
   "execution_count": 2,
   "id": "026d40e1",
   "metadata": {},
   "outputs": [],
   "source": [
    "shakespare_william_works = ['Romeo And Juliet - Shakespeare',\n",
    "'SHAKESPEARE William - Works',\n",
    "'Hamlet - Shakespeare',\n",
    "'Romeo And Juliet - All Media Types',\n",
    "'Richard II - Shakespeare',\n",
    "'Henry IV Part 1 - Shakespeare',\n",
    "'Twelfth Night - Shakespeare',\n",
    "'The Hollow Crown (2012)',\n",
    "'Henry V - Shakespeare',\n",
    "'Much Ado About Nothing - Shakespeare',\n",
    "'Coriolanus - Shakespeare',\n",
    "'Midsummer Night&#x27;s Dream - Shakespeare',\n",
    "'The Tempest - Shakespeare',\n",
    "'Macbeth - Shakespeare',\n",
    "'Julius Caesar - Shakespeare',\n",
    "'Richard III - Shakespeare',\n",
    "'Merchant of Venice - Shakespeare',\n",
    "'Henry IV Part 2 - Shakespeare',\n",
    "'Othello - Shakespeare']\n"
   ]
  },
  {
   "cell_type": "code",
   "execution_count": 3,
   "id": "9b31a337",
   "metadata": {},
   "outputs": [],
   "source": [
    "pickle.dump(shakespare_william_works, open('shakespare_william_works_sub_fandoms.p', 'wb'))"
   ]
  },
  {
   "cell_type": "code",
   "execution_count": 5,
   "id": "0d0992ff",
   "metadata": {},
   "outputs": [],
   "source": [
    "sherlock_holmes_related_fandoms = [\n",
    "'Sherlock (TV)',\n",
    "'Sherlock Holmes &amp; Related Fandoms',\n",
    "'Sherlock Holmes - Arthur Conan Doyle',\n",
    "'Sherlock - Fandom',\n",
    "'Elementary (TV)',\n",
    "'Sherlock Holmes (Downey films)',\n",
    "'Sherlock Holmes (2009)',\n",
    "'BBC Sherlock',\n",
    "'Sherlock Holmes (1984 TV)',\n",
    "'Sherlock BBC',]\n"
   ]
  },
  {
   "cell_type": "code",
   "execution_count": 31,
   "id": "952922d5",
   "metadata": {},
   "outputs": [],
   "source": [
    "pickle.dump(sherlock_holmes_related_fandoms, open('sherlock_holmes_&_related_fandoms_sub_fandoms.p', 'wb'))"
   ]
  },
  {
   "cell_type": "code",
   "execution_count": 32,
   "id": "4e6689bf",
   "metadata": {},
   "outputs": [],
   "source": [
    "star_wars_all_media_types = [\n",
    "'Star Wars Episode VII: The Force Awakens (2015)',\n",
    "'Star Wars - All Media Types',\n",
    "'Star Wars Prequel Trilogy',\n",
    "'Star Wars Original Trilogy',\n",
    "'Star Wars: The Clone Wars (2008) - All Media Types',\n",
    "'Star Wars Episode I: The Phantom Menace',\n",
    "'Star Wars',\n",
    "'Star Wars Legends: The Old Republic',\n",
    "'Star Wars: Rebels',\n",
    "'Star Wars: The Old Republic',\n",
    "'Star Wars Sequel Trilogy',\n",
    "'Star Wars Episode III: Revenge of the Sith',\n",
    "'Star Wars Legends - All Media Types',\n",
    "'Star Wars Episode IV: A New Hope',\n",
    "'Star Wars Legends: X-wing Series - Aaron Allston &amp; Michael Stackpole',\n",
    "'Star Wars Episode VI: Return of the Jedi',\n",
    "'Star Wars Episode II: Attack of the Clones',\n",
    "'Star Wars Legends: Knights of the Old Republic',\n",
    "'Star Wars: Knights of the Old Republic',\n",
    "'Star Wars: Rise of Empire Era - All Media Types',]"
   ]
  },
  {
   "cell_type": "code",
   "execution_count": 33,
   "id": "b927d0ae",
   "metadata": {},
   "outputs": [],
   "source": [
    "pickle.dump(star_wars_all_media_types, open('star_wars_all_media_types_sub_fandoms.p', 'wb'))"
   ]
  },
  {
   "cell_type": "code",
   "execution_count": 10,
   "id": "535a6e9f",
   "metadata": {},
   "outputs": [],
   "source": [
    "les_miserables_all_media_types = [\n",
    "'Les Mis\\xc3\\xa9rables - All Media Types',\n",
    "'Les Mis\\xc3\\xa9rables - Victor Hugo',\n",
    "'Les Mis\\xc3\\xa9rables (2012)',\n",
    "'Les Mis\\xc3\\xa9rables - Sch\\xc3\\xb6nberg/Boublil',\n",
    "'Les Miserables',\n",
    "'les mis',\n",
    "'Les Mis\\xc3\\xa9rables (Dallas 2014)',\n",
    "'Les Mis - Fandom',\n",
    "'Les Mis\\xc3\\xa9rables - Hugo',]"
   ]
  },
  {
   "cell_type": "code",
   "execution_count": 34,
   "id": "fc0545fe",
   "metadata": {},
   "outputs": [],
   "source": [
    "pickle.dump(les_miserables_all_media_types, open('les_miserables_all_media_types_sub_fandoms.p', 'wb'))"
   ]
  },
  {
   "cell_type": "code",
   "execution_count": 12,
   "id": "0b435e17",
   "metadata": {},
   "outputs": [],
   "source": [
    "bishoujo_senshi_sailor_moon = [\n",
    "'Bishoujo Senshi Sailor Moon | Pretty Guardian Sailor Moon',\n",
    "'Sailor Moon - All Media Types',\n",
    "'Bishoujo Senshi Sailor Moon | Pretty Guardian Sailor Moon (Manga)',\n",
    "'Bishoujo Senshi Sailor Moon | Pretty Guardian Sailor Moon (Anime)',\n",
    "'Bishoujo Senshi Sailor Moon | Pretty Guardian Sailor Moon (TV)',\n",
    "'Sailor Moon',\n",
    "'Bishoujo Senshi Sailor Moon',\n",
    "'Bishoujo Senshi Sailor Moon | Pretty Guardian Sailor Moon (Live Action TV)',\n",
    "'Code Name: Sailor V',\n",
    "'Bishoujo Senshi Sailor Moon | Pretty Guardian Sailor Moon (Musicals)',]"
   ]
  },
  {
   "cell_type": "code",
   "execution_count": 35,
   "id": "448b7765",
   "metadata": {},
   "outputs": [],
   "source": [
    "pickle.dump(bishoujo_senshi_sailor_moon, open('bishoujo_senshi_sailor_moon_sub_fandoms.p', 'wb'))"
   ]
  },
  {
   "cell_type": "code",
   "execution_count": 36,
   "id": "df0cd18d",
   "metadata": {},
   "outputs": [],
   "source": [
    "haikyuu = [\n",
    "'Haikyuu!!',\n",
    "'haikyuu',\n",
    "'Haikyuu!',]\n"
   ]
  },
  {
   "cell_type": "code",
   "execution_count": 37,
   "id": "99096f10",
   "metadata": {},
   "outputs": [],
   "source": [
    "pickle.dump(haikyuu, open('haikyuu_sub_fandoms.p', 'wb'))"
   ]
  },
  {
   "cell_type": "code",
   "execution_count": 38,
   "id": "37fba3e1",
   "metadata": {},
   "outputs": [],
   "source": [
    "hamilton_miranda = [\n",
    "'Hamilton - Miranda',\n",
    "'American Revolution RPF',\n",
    "'18th &amp; 19th Century CE RPF',\n",
    "'18th Century CE RPF',\n",
    "'Hamilton - Fandom',\n",
    "'Historical RPF',\n",
    "'Hamilton - Miranda (Broadway Cast) RPF',\n",
    "'Hamilton-Miranda',\n",
    "'Hamilton- Miranda',]"
   ]
  },
  {
   "cell_type": "code",
   "execution_count": 39,
   "id": "15fdea48",
   "metadata": {},
   "outputs": [],
   "source": [
    "pickle.dump(hamilton_miranda, open('hamilton_miranda_sub_fandoms.p', 'wb'))"
   ]
  },
  {
   "cell_type": "code",
   "execution_count": 40,
   "id": "bffa9877",
   "metadata": {},
   "outputs": [],
   "source": [
    "kuroko_no_basuke = [\n",
    "'Kuroko no Basuke | Kuroko&#x27;s Basketball',\n",
    "'Kuroko no Basket',\n",
    "'Kuroko no Basuke',]"
   ]
  },
  {
   "cell_type": "code",
   "execution_count": 41,
   "id": "3363c2ab",
   "metadata": {},
   "outputs": [],
   "source": [
    "pickle.dump(kuroko_no_basuke, open('kuroko_no_basuke_sub_fandoms.p', 'wb'))"
   ]
  },
  {
   "cell_type": "code",
   "execution_count": 42,
   "id": "ab14c26b",
   "metadata": {},
   "outputs": [],
   "source": [
    "the_walking_dead_related_fandoms = [\n",
    "'The Walking Dead (TV)',\n",
    "'Walking Dead (TV)',\n",
    "'The Walking Dead - All Media Types',\n",
    "'Walking Dead',\n",
    "'The Walking Dead',\n",
    "'The Walking Dead &amp; Related Fandoms',\n",
    "'Fear the Walking Dead (TV)',\n",
    "'The Walking Dead (Video Games)',\n",
    "'The Walking Dead (Comics)',\n",
    "'The Walking Dead (Video Game)',\n",
    "'Twd - Fandom',\n",
    "'Walking Dead (Comics)',]"
   ]
  },
  {
   "cell_type": "code",
   "execution_count": 43,
   "id": "eb2b35a0",
   "metadata": {},
   "outputs": [],
   "source": [
    "pickle.dump(the_walking_dead_related_fandoms, open('the_walking_dead_&_related_fandoms_sub_fandoms.p', 'wb'))"
   ]
  },
  {
   "cell_type": "code",
   "execution_count": 44,
   "id": "e28b185f",
   "metadata": {},
   "outputs": [],
   "source": [
    "hetalia_axis_powers = [\n",
    "'Hetalia: Axis Powers',\n",
    "'2P Hetalia - Fandom',\n",
    "'Hetalia - Fandom',\n",
    "'Latin Hetalia - Fandom',\n",
    "'HetaOni',\n",
    "'Axis Powers Hetalia',\n",
    "'Hetalia - Axis Powers',\n",
    "'APH - Fandom',\n",
    "'Nyotalia - Fandom',]"
   ]
  },
  {
   "cell_type": "code",
   "execution_count": 45,
   "id": "48fbdf9f",
   "metadata": {},
   "outputs": [],
   "source": [
    "pickle.dump(hetalia_axis_powers, open('hetalia_axis_powers_sub_fandoms.p', 'wb'))"
   ]
  },
  {
   "cell_type": "code",
   "execution_count": 46,
   "id": "2effcd26",
   "metadata": {},
   "outputs": [],
   "source": [
    "naruto = [\n",
    "'Naruto',\n",
    "'Naruto Shippuden',]"
   ]
  },
  {
   "cell_type": "code",
   "execution_count": 47,
   "id": "181e61dc",
   "metadata": {},
   "outputs": [],
   "source": [
    "pickle.dump(naruto, open('naruto_sub_fandoms.p', 'wb'))"
   ]
  },
  {
   "cell_type": "code",
   "execution_count": 48,
   "id": "77213e5c",
   "metadata": {},
   "outputs": [],
   "source": [
    "buffy_the_vampire_slayer = [\n",
    "'Buffy the Vampire Slayer',\n",
    "'Buffy the Vampire Slayer (Comic)',\n",
    "'BtVS - Fandom',\n",
    "'Buffy: The Vampire Slayer',\n",
    "'Buffy the Vampire Slayer (Comics)',]"
   ]
  },
  {
   "cell_type": "code",
   "execution_count": 49,
   "id": "850b7843",
   "metadata": {},
   "outputs": [],
   "source": [
    "pickle.dump(buffy_the_vampire_slayer, open('buffy_the_vampire_slayer_sub_fandoms.p', 'wb'))"
   ]
  },
  {
   "cell_type": "code",
   "execution_count": 51,
   "id": "54464820",
   "metadata": {},
   "outputs": [],
   "source": [
    "arthurian_mythology_related_fandoms = [\n",
    "'Merlin (TV)',\n",
    "'Merlin (BBC)',\n",
    "'Merlin - Fandom',\n",
    "'Arthurian Mythology',\n",
    "'King Arthur (2004)',\n",
    "'Arthur of the Britons',\n",
    "'Arthurian Mythology &amp; Related Fandoms',\n",
    "'Arthurian Mythology &amp; Adaptations - All Media Types',\n",
    "'Merlin (TV) RPF',]"
   ]
  },
  {
   "cell_type": "code",
   "execution_count": 52,
   "id": "50375baf",
   "metadata": {},
   "outputs": [],
   "source": [
    "pickle.dump(arthurian_mythology_related_fandoms, open('arthurian_mythology_&_related_fandoms_sub_fandoms.p', 'wb'))"
   ]
  },
  {
   "cell_type": "code",
   "execution_count": 53,
   "id": "51ed1b89",
   "metadata": {},
   "outputs": [],
   "source": [
    "ms_paint_adventures = [\n",
    "'Homestuck',\n",
    "'MS Paint Adventures',\n",
    "'Humanstuck - Fandom',\n",
    "'MSPA',]"
   ]
  },
  {
   "cell_type": "code",
   "execution_count": 54,
   "id": "423cfcf7",
   "metadata": {},
   "outputs": [],
   "source": [
    "pickle.dump(ms_paint_adventures, open('ms_paint_adventures_sub_fandoms.p', 'wb'))"
   ]
  },
  {
   "cell_type": "code",
   "execution_count": 55,
   "id": "2e935543",
   "metadata": {},
   "outputs": [],
   "source": [
    "one_direction = [\n",
    "'One Direction (Band)',\n",
    "'One Direction',\n",
    "'Best Song Ever - One Direction (Music Video)',]"
   ]
  },
  {
   "cell_type": "code",
   "execution_count": 56,
   "id": "549a5c3f",
   "metadata": {},
   "outputs": [],
   "source": [
    "pickle.dump(one_direction, open('one_direction_sub_fandoms.p', 'wb'))"
   ]
  },
  {
   "cell_type": "code",
   "execution_count": 57,
   "id": "5baa10e5",
   "metadata": {},
   "outputs": [],
   "source": [
    "attack_on_titan = [\n",
    "'Shingeki no Kyojin | Attack on Titan',\n",
    "'Attack on Titan',\n",
    "'Shingeki no Kyojin',\n",
    "'snk - Fandom',\n",
    "'aot',\n",
    "'Ereri - Fandom',\n",
    "'Riren - Fandom',\n",
    "'LeviHan - Fandom',]"
   ]
  },
  {
   "cell_type": "code",
   "execution_count": 58,
   "id": "9d296960",
   "metadata": {},
   "outputs": [],
   "source": [
    "pickle.dump(attack_on_titan, open('attack_on_titan_sub_fandoms.p', 'wb'))"
   ]
  },
  {
   "cell_type": "code",
   "execution_count": 59,
   "id": "2076806b",
   "metadata": {},
   "outputs": [],
   "source": [
    "doctor_who_related_fandoms = [\n",
    "'Doctor Who (2005)',\n",
    "'Doctor Who',\n",
    "'Doctor Who &amp; Related Fandoms',\n",
    "'Doctor Who (1963)',\n",
    "'Doctor Who: Eighth Doctor Adventures - Various Authors',\n",
    "'Doctor Who RPF',\n",
    "'Doctor Who (Big Finish Audio)',]"
   ]
  },
  {
   "cell_type": "code",
   "execution_count": 60,
   "id": "64925a49",
   "metadata": {},
   "outputs": [],
   "source": [
    "pickle.dump(doctor_who_related_fandoms, open('doctor_who_related_fandoms_sub_fandoms.p', 'wb'))"
   ]
  },
  {
   "cell_type": "code",
   "execution_count": 61,
   "id": "754ab99a",
   "metadata": {},
   "outputs": [],
   "source": [
    "tolkien_j_r_r_works_related_fandoms = [\n",
    "'The Hobbit - All Media Types',\n",
    "'The Hobbit - J. R. R. Tolkien',\n",
    "'The Lord of the Rings - J. R. R. Tolkien',\n",
    "'The Hobbit (Jackson Movies)',\n",
    "'The Lord of the Rings - All Media Types',\n",
    "'The Silmarillion and other histories of Middle-Earth - J. R. R. Tolkien',\n",
    "'TOLKIEN J. R. R. - Works',\n",
    "'Lord of the Rings - J. R. R. Tolkien',\n",
    "'The Lord of the Rings (Movies)',\n",
    "'The Hobbit (2012)',\n",
    "'Lord of the Rings (2001 2002 2003)',\n",
    "'TOLKIEN J. R. R. - Works &amp; Related Fandoms',\n",
    "'Lord of the Rings - Fandom',\n",
    "'Lord of the Rings - Tolkien',\n",
    "'Lord of the Rings - All Media Types',\n",
    "'Lord of the Rings (Movies)',\n",
    "'The Hobbit',\n",
    "'The Hobbit RPF',]"
   ]
  },
  {
   "cell_type": "code",
   "execution_count": 62,
   "id": "fe56aabf",
   "metadata": {},
   "outputs": [],
   "source": [
    "pickle.dump(tolkien_j_r_r_works_related_fandoms, open('tolkien_j_r_r_works_&_related_fandoms_sub_fandoms.p', 'wb'))"
   ]
  },
  {
   "cell_type": "code",
   "execution_count": 63,
   "id": "ea828d38",
   "metadata": {},
   "outputs": [],
   "source": [
    "dcu = [\n",
    "'Arrow (TV 2012)',\n",
    "'Batman (Comics)',\n",
    "'Smallville',\n",
    "'The Flash (TV 2014)',\n",
    "'DCU',\n",
    "'Batman - All Media Types',\n",
    "'DCU - Comicverse',\n",
    "'DCU (Comics)',\n",
    "'Gotham (TV)',\n",
    "'Supergirl (TV 2015)',\n",
    "'DC&#x27;s Legends of Tomorrow (TV)',\n",
    "'Justice League &amp; Justice League Unlimited (Cartoons)',\n",
    "'Superman - All Media Types',\n",
    "'Red Robin (Comics)',\n",
    "'Watchmen - All Media Types',\n",
    "'Teen Titans (Comics)',\n",
    "'Nightwing (Comics)',\n",
    "'Batman: The Animated Series',\n",
    "'Young Justice (Cartoon)',\n",
    "'Superman (Comics)',]"
   ]
  },
  {
   "cell_type": "code",
   "execution_count": 64,
   "id": "4c88cf48",
   "metadata": {},
   "outputs": [],
   "source": [
    "pickle.dump(dcu, open('dcu_sub_fandoms.p', 'wb'))"
   ]
  },
  {
   "cell_type": "code",
   "execution_count": 65,
   "id": "dd6bbca0",
   "metadata": {},
   "outputs": [],
   "source": [
    "dragon_age_all_media_types = [\n",
    "'Dragon Age: Inquisition',\n",
    "'Dragon Age (Video Games)',\n",
    "'Dragon Age - All Media Types',\n",
    "'Dragon Age II',\n",
    "'Dragon Age: Origins',\n",
    "'Dragon Age',\n",
    "'Dragon Age: Origins - Awakening',\n",
    "'Dragon Age 2',\n",
    "'Dragon Age Inquisition - Fandom',\n",
    "'Dragon Age - Various Authors',\n",
    "'Dragon Age (Comics)',\n",
    "'Dragon Age Origins',\n",
    "'Solavellan - Fandom',\n",
    "'Dragon Age: Awakening',\n",
    "'Solas - Fandom',]"
   ]
  },
  {
   "cell_type": "code",
   "execution_count": 66,
   "id": "6825abbc",
   "metadata": {},
   "outputs": [],
   "source": [
    "pickle.dump(dragon_age_all_media_types, open('dragon_age_all_media_types_sub_fandoms.p', 'wb'))"
   ]
  },
  {
   "cell_type": "code",
   "execution_count": 67,
   "id": "f4acae53",
   "metadata": {},
   "outputs": [],
   "source": [
    "harry_potter = [\n",
    "'Harry Potter - J. K. Rowling',\n",
    "'Harry Potter - Rowling',\n",
    "'Harry Potter - Fandom',]"
   ]
  },
  {
   "cell_type": "code",
   "execution_count": 72,
   "id": "31e3625d",
   "metadata": {},
   "outputs": [],
   "source": [
    "pickle.dump(harry_potter, open('harry_potter_sub_fandoms.p', 'wb'))"
   ]
  },
  {
   "cell_type": "code",
   "execution_count": 68,
   "id": "bfef434b",
   "metadata": {},
   "outputs": [],
   "source": [
    "marvel = [\n",
    "'Marvel Cinematic Universe',\n",
    "'The Avengers (Marvel Movies)',\n",
    "'Captain America (Movies)',\n",
    "'The Avengers (2012)',\n",
    "'Thor (Movies)',\n",
    "'Agents of S.H.I.E.L.D. (TV)',\n",
    "'The Avengers (Marvel) - All Media Types',\n",
    "'Iron Man (Movies)',\n",
    "'Marvel',\n",
    "'X-Men: First Class (2011)',\n",
    "'Marvel (Movies)',\n",
    "'Captain America - All Media Types',\n",
    "'Daredevil (TV)',\n",
    "'Marvel (Comics)',\n",
    "'X-Men (Movies)',\n",
    "'Marvel Avengers Movies Universe',\n",
    "'Marvel 616',\n",
    "'Thor (2011)',\n",
    "'Thor - All Media Types',\n",
    "'Agent Carter (TV)',]\n"
   ]
  },
  {
   "cell_type": "code",
   "execution_count": 69,
   "id": "5f7f8261",
   "metadata": {},
   "outputs": [],
   "source": [
    "pickle.dump(marvel, open('marvel_sub_fandoms.p', 'wb'))"
   ]
  },
  {
   "cell_type": "code",
   "execution_count": 70,
   "id": "9493fde3",
   "metadata": {},
   "outputs": [],
   "source": [
    "supernatural = [\n",
    "'Supernatural',\n",
    "'Supernatural RPF',\n",
    "'destiel - Fandom',\n",
    "'SPN',]"
   ]
  },
  {
   "cell_type": "code",
   "execution_count": 71,
   "id": "d5536a0a",
   "metadata": {},
   "outputs": [],
   "source": [
    "pickle.dump(supernatural, open('supernatural_sub_fandoms.p', 'wb'))"
   ]
  },
  {
   "cell_type": "code",
   "execution_count": null,
   "id": "109adbce",
   "metadata": {},
   "outputs": [],
   "source": []
  }
 ],
 "metadata": {
  "kernelspec": {
   "display_name": "Python 3 (ipykernel)",
   "language": "python",
   "name": "python3"
  },
  "language_info": {
   "codemirror_mode": {
    "name": "ipython",
    "version": 3
   },
   "file_extension": ".py",
   "mimetype": "text/x-python",
   "name": "python",
   "nbconvert_exporter": "python",
   "pygments_lexer": "ipython3",
   "version": "3.7.7"
  }
 },
 "nbformat": 4,
 "nbformat_minor": 5
}
