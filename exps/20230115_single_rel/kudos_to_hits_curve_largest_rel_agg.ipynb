{
 "cells": [
  {
   "cell_type": "code",
   "execution_count": 1,
   "metadata": {},
   "outputs": [
    {
     "name": "stderr",
     "output_type": "stream",
     "text": [
      "/opt/anaconda3/envs/py37/lib/python3.7/site-packages/ipykernel_launcher.py:16: MatplotlibDeprecationWarning: \n",
      "The mpl_toolkits.axes_grid1.colorbar module was deprecated in Matplotlib 3.2 and will be removed two minor releases later. Use matplotlib.colorbar instead.\n",
      "  app.launch_new_instance()\n"
     ]
    }
   ],
   "source": [
    "import pandas as pd\n",
    "import os\n",
    "import matplotlib.pyplot as plt\n",
    "%matplotlib inline\n",
    "import numpy as np\n",
    "import random\n",
    "from scipy import stats, spatial\n",
    "import pickle\n",
    "from matplotlib import rc\n",
    "# rc('font',**{'family':'sans-serif','sans-serif':['Helvetica']})\n",
    "## for Palatino and other serif fonts use:\n",
    "#rc('font',**{'family':'serif','serif':['Palatino']})\n",
    "# rc('text', usetex=True)\n",
    "import csv\n",
    "from mpl_toolkits.axes_grid1 import make_axes_locatable\n",
    "from mpl_toolkits.axes_grid1.colorbar import colorbar\n"
   ]
  },
  {
   "cell_type": "code",
   "execution_count": 2,
   "metadata": {},
   "outputs": [],
   "source": [
    "tfidf_path = '../../data/tfidf_20230115_largest_rel/'"
   ]
  },
  {
   "cell_type": "code",
   "execution_count": 3,
   "metadata": {},
   "outputs": [],
   "source": [
    "lda_path = '../../data/lda_20230115_largest_rel/'"
   ]
  },
  {
   "cell_type": "code",
   "execution_count": 4,
   "metadata": {},
   "outputs": [],
   "source": [
    "fandom_list = [\n",
    " 'harry_potter',\n",
    " 'dcu',\n",
    " 'doctor_who_&_related_fandoms',\n",
    "#  'star_wars_all_media_types',\n",
    " 'arthurian_mythology_&_related_fandoms',\n",
    " 'supernatural',\n",
    " 'haikyuu',\n",
    " 'kuroko_no_basuke',\n",
    " 'hamilton_miranda',\n",
    " 'dragon_age_all_media_types',\n",
    " 'the_walking_dead_&_related_fandoms',\n",
    " 'buffy_the_vampire_slayer',\n",
    " 'naruto',\n",
    " 'tolkien_j_r_r_works_&_related_fandoms',\n",
    "#  'shakespare_william_works',\n",
    " 'hetalia_axis_powers',\n",
    " 'attack_on_titan',\n",
    " 'ms_paint_adventures',\n",
    " 'marvel',\n",
    "#  'bishoujo_senshi_sailor_moon',\n",
    " 'one_direction',\n",
    " 'sherlock_holmes_&_related_fandoms'\n",
    "]"
   ]
  },
  {
   "cell_type": "code",
   "execution_count": 6,
   "metadata": {},
   "outputs": [],
   "source": [
    "# df = pd.read_csv(os.path.join(lda_path,'sherlock_holmes_&_related_fandoms_temporal_lda_jsd_toprev_with_dist_merged_chs_no_text.tsv'), sep = '\\t')"
   ]
  },
  {
   "cell_type": "code",
   "execution_count": 7,
   "metadata": {},
   "outputs": [],
   "source": [
    "# len(df)"
   ]
  },
  {
   "cell_type": "code",
   "execution_count": 8,
   "metadata": {},
   "outputs": [],
   "source": [
    "def var_bootstrap_resample(li):\n",
    "    if len(li) > 0:\n",
    "        var_original = np.var(li)\n",
    "        var_s = []\n",
    "        for i in range(100):\n",
    "            sample = []\n",
    "            for i in range(len(li)):\n",
    "                sample.append(random.choice(li))\n",
    "            var_s.append(np.var(sample))\n",
    "        tail = sorted(var_s)[5]\n",
    "        head = sorted(var_s)[95]\n",
    "        return (var_original, tail, head)"
   ]
  },
  {
   "cell_type": "code",
   "execution_count": 9,
   "metadata": {},
   "outputs": [],
   "source": [
    "def ave_bootstrap_resample(li):\n",
    "    if len(li) > 0:\n",
    "        ave_original = np.average(li)\n",
    "        ave_s = []\n",
    "        for i in range(100):\n",
    "            sample = []\n",
    "            for i in range(len(li)):\n",
    "                sample.append(random.choice(li))\n",
    "            ave_s.append(np.average(sample))\n",
    "        tail = sorted(ave_s)[5]\n",
    "        head = sorted(ave_s)[95]\n",
    "        return (ave_original, tail, head)"
   ]
  },
  {
   "cell_type": "code",
   "execution_count": 10,
   "metadata": {},
   "outputs": [],
   "source": [
    "def normalize_dfs(df):\n",
    "    \n",
    "    # normalization of the success field\n",
    "    df = df.replace([np.inf, -np.inf], np.nan)\n",
    "    df['Hits'].fillna(0, inplace=True)\n",
    "    df['Kudos'].fillna(0, inplace=True)\n",
    "    df['Bookmarks'].fillna(0, inplace=True)\n",
    "    df['Comments'].fillna(0, inplace=True)\n",
    "\n",
    "    # normalize by chapter number\n",
    "    df['Kudos'] = df['Kudos']/df['Chapters'] \n",
    "    df = df.replace([np.inf, -np.inf], np.nan)\n",
    "    df['Kudos'].dropna()\n",
    "\n",
    "    df['Hits'].dropna()\n",
    "\n",
    "    df['Bookmarks'].dropna()\n",
    "    return df"
   ]
  },
  {
   "cell_type": "code",
   "execution_count": 11,
   "metadata": {},
   "outputs": [],
   "source": [
    "def create_dict(df, nov_field, suc_field, metric):\n",
    "    \n",
    "    # Make bins\n",
    "    df[nov_field] = df[nov_field].astype(float)\n",
    "    \n",
    "    term_n = sorted(df[nov_field].tolist())\n",
    "    term_n = np.quantile(term_n, [0.1, 0.2, 0.3, 0.4, 0.5, 0.6, 0.7, 0.8, 0.9])\n",
    "    term_n = np.insert(term_n, 0, 0)\n",
    "    term_n = np.concatenate([term_n, [1]])\n",
    "    \n",
    "    dic = {}\n",
    "    dic_top5p = {}\n",
    "    dic_bot5p = {}\n",
    "    \n",
    "    for i in range(len(term_n)-1):\n",
    "        df_s = df[(df[nov_field] >= term_n[i]) & (df[nov_field] < term_n[i+1])]\n",
    "        \n",
    "        top_5p = np.percentile(df_s[suc_field], 95)\n",
    "        df_top5p = df_s[df_s[suc_field] > top_5p]\n",
    "        \n",
    "    \n",
    "        bot_5p = np.percentile(df_s[suc_field], 5)\n",
    "        df_bot5p = df_s[df_s[suc_field] < bot_5p]\n",
    "    \n",
    "        li = df_s[suc_field].tolist()\n",
    "        if len(li) > 0:\n",
    "            if metric == 'ave':\n",
    "                dic[term_n[i]] = ave_bootstrap_resample(li)\n",
    "            elif metric == 'var':\n",
    "                dic[term_n[i]] = var_bootstrap_resample(li)\n",
    "            \n",
    "        \n",
    "        li_top5p = df_top5p[suc_field].tolist()\n",
    "        if len(li_top5p) > 0:\n",
    "            if metric == 'ave':\n",
    "                dic_top5p[term_n[i]] = ave_bootstrap_resample(li_top5p)\n",
    "            elif metric == 'var':\n",
    "                dic_top5p[term_n[i]] = var_bootstrap_resample(li_top5p)\n",
    "        else:\n",
    "            dic_top5p[term_n[i]] = (0, 0, 0)\n",
    "                \n",
    "        li_bot5p = df_bot5p[suc_field].tolist()\n",
    "        if len(li_bot5p) > 0:\n",
    "            if metric == 'ave':\n",
    "                dic_bot5p[term_n[i]] = ave_bootstrap_resample(li_bot5p)\n",
    "            elif metric == 'var':\n",
    "                dic_bot5p[term_n[i]] = var_bootstrap_resample(li_bot5p)\n",
    "        else:\n",
    "            dic_bot5p[term_n[i]] = (0, 0, 0)\n",
    "            \n",
    "    return dic, dic_top5p, dic_bot5p"
   ]
  },
  {
   "cell_type": "code",
   "execution_count": 20,
   "metadata": {},
   "outputs": [],
   "source": [
    "def generate_res_term(path, metric):\n",
    "\n",
    "    df_all = []\n",
    "    for fandom in fandom_list:\n",
    "        df = pd.read_csv(os.path.join(path,fandom + \\\n",
    "                                  '_tfidf_merged_chapters_20230115_largest_rel.tsv'), sep = '\\t')\n",
    "    \n",
    "        df = normalize_dfs(df)\n",
    "        df = df[df.Hits >= 1]\n",
    "        df['kudos_hit_ratio'] = df['Kudos']/df['Hits']  \n",
    "\n",
    "        df = df.replace([np.inf, -np.inf], np.nan)\n",
    "        df = df[['Cos', 'kudos_hit_ratio']].dropna()\n",
    "        \n",
    "        df_all.append(df)\n",
    "        \n",
    "    df_all = pd.concat(df_all)\n",
    "\n",
    "    dic, dic_top5p, dic_bot5p = create_dict(df=df_all, nov_field='Cos', suc_field='kudos_hit_ratio', metric=metric)\n",
    "\n",
    "    return dic, dic_top5p, dic_bot5p\n",
    "    "
   ]
  },
  {
   "cell_type": "code",
   "execution_count": 21,
   "metadata": {},
   "outputs": [],
   "source": [
    "def generate_res_topic(path, metric):\n",
    "\n",
    "    df_all = []\n",
    "    for fandom in fandom_list:\n",
    "        \n",
    "        df = pd.read_csv(os.path.join(path,fandom + \\\n",
    "                                  '_lda_with_dist_merged_chs_20230115_largest_rel.tsv'), sep = '\\t')\n",
    "        df = normalize_dfs(df)\n",
    "        df = df[df.Hits >= 10]\n",
    "        df['kudos_hit_ratio'] = df['Kudos']/df['Hits']  \n",
    "\n",
    "        df = df.replace([np.inf, -np.inf], np.nan)\n",
    "        df = df[['JSD', 'kudos_hit_ratio']].dropna()\n",
    "        \n",
    "        df_all.append(df)\n",
    "\n",
    "    df_all = pd.concat(df_all)\n",
    "\n",
    "    dic, dic_top5p, dic_bot5p = create_dict(df=df_all, nov_field='JSD', suc_field='kudos_hit_ratio', metric=metric)\n",
    "\n",
    "    return dic, dic_top5p, dic_bot5p\n",
    "    "
   ]
  },
  {
   "cell_type": "code",
   "execution_count": 22,
   "metadata": {},
   "outputs": [],
   "source": [
    "def generate_dics():\n",
    "    tfidf_kudos_dict_var, tfidf_kudos_dict_var_top5p, tfidf_kudos_dict_var_bot5p = generate_res_term(tfidf_path, 'var')\n",
    "\n",
    "    tfidf_kudos_dict_ave, tfidf_kudos_dict_ave_top5p, tfidf_kudos_dict_ave_bot5p = generate_res_term(tfidf_path, 'ave')\n",
    "    \n",
    "    lda_kudos_dict_var, lda_kudos_dict_var_top5p, lda_kudos_dict_var_bot5p = generate_res_topic(lda_path,  'var')\n",
    "\n",
    "    lda_kudos_dict_ave, lda_kudos_dict_ave_top5p, lda_kudos_dict_ave_bot5p = generate_res_topic(lda_path, 'ave')\n",
    "\n",
    "    \n",
    "    return tfidf_kudos_dict_var, tfidf_kudos_dict_var_top5p, tfidf_kudos_dict_var_bot5p,\\\n",
    "            tfidf_kudos_dict_ave, tfidf_kudos_dict_ave_top5p, tfidf_kudos_dict_ave_bot5p,\\\n",
    "            lda_kudos_dict_var, lda_kudos_dict_var_top5p, lda_kudos_dict_var_bot5p, \\\n",
    "            lda_kudos_dict_ave, lda_kudos_dict_ave_top5p, lda_kudos_dict_ave_bot5p "
   ]
  },
  {
   "cell_type": "code",
   "execution_count": 23,
   "metadata": {},
   "outputs": [],
   "source": [
    "def create_xs(keys):\n",
    "    xs = []\n",
    "    for i in range(len(keys)-1):\n",
    "        xs.append(keys[i] + (keys[i+1] - keys[i])/2)\n",
    "    return xs"
   ]
  },
  {
   "cell_type": "code",
   "execution_count": 24,
   "metadata": {},
   "outputs": [],
   "source": [
    "def extract_plot_vals(dic):\n",
    "    keys = sorted(dic.keys())\n",
    "    keys.append(1)\n",
    "    x = create_xs(keys)\n",
    "    y = [dic[j][0] for j in keys[:-1]]\n",
    "    lower_error = [dic[j][0] - dic[j][1] for j in keys[:-1]]\n",
    "    upper_error = [dic[j][2] - dic[j][0] for j in keys[:-1]]\n",
    "    asymmetric_error = [lower_error, upper_error]\n",
    "    return x,y,asymmetric_error"
   ]
  },
  {
   "cell_type": "code",
   "execution_count": 25,
   "metadata": {},
   "outputs": [],
   "source": [
    "tfidf_kudos_dict_var, tfidf_kudos_dict_var_top5p, tfidf_kudos_dict_var_bot5p,\\\n",
    "    tfidf_kudos_dict_ave, tfidf_kudos_dict_ave_top5p, tfidf_kudos_dict_ave_bot5p,\\\n",
    "    lda_kudos_dict_var, lda_kudos_dict_var_top5p, lda_kudos_dict_var_bot5p, \\\n",
    "    lda_kudos_dict_ave, lda_kudos_dict_ave_top5p, lda_kudos_dict_ave_bot5p =  generate_dics()"
   ]
  },
  {
   "cell_type": "code",
   "execution_count": 26,
   "metadata": {},
   "outputs": [
    {
     "data": {
      "text/plain": [
       "{0.0: (0.001397136989554487, 0.0013465610521538024, 0.0014428810323113864),\n",
       " 0.0960238515648382: (0.0015179136161135687,\n",
       "  0.0014822750029243113,\n",
       "  0.001569864756185051),\n",
       " 0.1206810177105904: (0.0015582759320153716,\n",
       "  0.0015134775744410894,\n",
       "  0.0015970530142550292),\n",
       " 0.143852363857486: (0.0015545954280291132,\n",
       "  0.0015167853157853572,\n",
       "  0.001606182039711118),\n",
       " 0.1690866149073618: (0.0014272401872178764,\n",
       "  0.001380840872480743,\n",
       "  0.001467393244402076),\n",
       " 0.2001020562345691: (0.0012849265387225028,\n",
       "  0.0012455814124434528,\n",
       "  0.0013195540103911484),\n",
       " 0.2423105784859656: (0.0011074219565814772,\n",
       "  0.0010694639064194635,\n",
       "  0.0011481405670194522),\n",
       " 0.2991079711247309: (0.0011984386988830897,\n",
       "  0.0011468098541458365,\n",
       "  0.0012572407774929135),\n",
       " 0.360257147786112: (0.0012459193290285733,\n",
       "  0.001202019171882991,\n",
       "  0.0012905752135230508),\n",
       " 0.4359848469060162: (0.0013022111533417902,\n",
       "  0.0012594724496078902,\n",
       "  0.001348235895545081)}"
      ]
     },
     "execution_count": 26,
     "metadata": {},
     "output_type": "execute_result"
    }
   ],
   "source": [
    "tfidf_kudos_dict_var"
   ]
  },
  {
   "cell_type": "code",
   "execution_count": 27,
   "metadata": {},
   "outputs": [
    {
     "data": {
      "image/png": "[encoded data removed]",
      "text/plain": [
       "<Figure size 1080x720 with 4 Axes>"
      ]
     },
     "metadata": {
      "needs_background": "light"
     },
     "output_type": "display_data"
    }
   ],
   "source": [
    "\n",
    "    \n",
    "\n",
    "fig, axes = plt.subplots(2,2,figsize = (15,10))\n",
    "\n",
    "#################subplot 1################\n",
    "x, y, err = extract_plot_vals(tfidf_kudos_dict_ave)\n",
    "axes[0][0].errorbar(x, y, yerr=err, color='black')\n",
    "axes[0][0].scatter(x, y, label = 'Kudos',facecolor='none',edgecolor='black')\n",
    "\n",
    "x_top5p, y_top5p, err_top5p = extract_plot_vals(tfidf_kudos_dict_ave_top5p)\n",
    "axes[0][0].errorbar(x_top5p, y_top5p, yerr=err_top5p, color='blue')\n",
    "axes[0][0].scatter(x_top5p, y_top5p)  \n",
    "\n",
    "x_bot5p, y_bot5p, err_bot5p = extract_plot_vals(tfidf_kudos_dict_ave_bot5p)\n",
    "axes[0][0].errorbar(x_bot5p, y_bot5p, yerr=err_bot5p, color='red')\n",
    "axes[0][0].scatter(x_bot5p, y_bot5p)\n",
    "\n",
    "axes[0][0].legend(prop={'size': 15})\n",
    "axes[0][0].set_ylabel('Kudos to hits ratio',fontsize=20)\n",
    "axes[0][0].tick_params(labelsize=20)\n",
    "\n",
    "\n",
    "#################subplot 2################\n",
    "\n",
    "x, y, err = extract_plot_vals(tfidf_kudos_dict_var)\n",
    "axes[0][1].errorbar(x, y, yerr=err, color='black')\n",
    "axes[0][1].scatter(x, y, label = 'Kudos',facecolor='none',edgecolor='black')\n",
    "\n",
    "x_top5p, y_top5p, err_top5p = extract_plot_vals(tfidf_kudos_dict_var_top5p)\n",
    "axes[0][1].errorbar(x_top5p, y_top5p, yerr=err_top5p, color='blue')\n",
    "axes[0][1].scatter(x_top5p, y_top5p)\n",
    "\n",
    "x_bot5p, y_bot5p, err_bot5p = extract_plot_vals(tfidf_kudos_dict_var_bot5p)\n",
    "axes[0][1].errorbar(x_bot5p, y_bot5p, yerr=err_bot5p, color='red')\n",
    "axes[0][1].scatter(x_bot5p, y_bot5p)\n",
    "\n",
    "axes[0][1].set_ylabel('Variance',fontsize=20)\n",
    "# plt.legend()\n",
    "axes[0][1].tick_params(labelsize=20)\n",
    "# axes[0][1].set_title(fandom, fontsize=20)\n",
    "\n",
    "#################subplot 3################\n",
    "\n",
    "x, y, err = extract_plot_vals(lda_kudos_dict_ave)\n",
    "axes[1][0].errorbar(x, y, yerr=err, color='black')\n",
    "axes[1][0].scatter(x, y, label = 'Kudos',facecolor='none',edgecolor='black')\n",
    "\n",
    "x_top5p, y_top5p, _ = extract_plot_vals(lda_kudos_dict_ave_top5p)\n",
    "axes[1][0].errorbar(x_top5p, y_top5p, yerr=err_top5p, color='blue')\n",
    "axes[1][0].scatter(x_top5p, y_top5p)    \n",
    "\n",
    "x_bot5p, y_bot5p, _ = extract_plot_vals(lda_kudos_dict_ave_bot5p)\n",
    "axes[1][0].errorbar(x_bot5p, y_bot5p, yerr=err_bot5p, color='red')\n",
    "axes[1][0].scatter(x_bot5p, y_bot5p)\n",
    "\n",
    "# plt.legend(prop={'size': 15})\n",
    "axes[1][0].set_ylabel('Kudos to hits ratio',fontsize=20)\n",
    "axes[1][0].tick_params(labelsize=20)\n",
    "\n",
    "#################subplot 4################\n",
    "\n",
    "x, y, err = extract_plot_vals(lda_kudos_dict_var)\n",
    "axes[1][1].errorbar(x, y, yerr=err, color='black')\n",
    "axes[1][1].scatter(x, y, label = 'Kudos',facecolor='none',edgecolor='black')\n",
    "\n",
    "x_top5p, y_top5p, _ = extract_plot_vals(lda_kudos_dict_var_top5p)\n",
    "axes[1][1].errorbar(x_top5p, y_top5p, yerr=err_top5p, color='blue')\n",
    "axes[1][1].scatter(x_top5p, y_top5p) \n",
    "\n",
    "x_bot5p, y_bot5p, _ = extract_plot_vals(lda_kudos_dict_var_bot5p)\n",
    "axes[1][1].errorbar(x_bot5p, y_bot5p, yerr=err_bot5p, color='red')\n",
    "axes[1][1].scatter(x_bot5p, y_bot5p)\n",
    "\n",
    "axes[1][1].set_ylabel('Variance',fontsize=20)\n",
    "axes[1][1].tick_params(labelsize=20)\n",
    "\n"
   ]
  },
  {
   "cell_type": "code",
   "execution_count": null,
   "metadata": {},
   "outputs": [],
   "source": []
  }
 ],
 "metadata": {
  "anaconda-cloud": {},
  "kernelspec": {
   "display_name": "Python 3 (ipykernel)",
   "language": "python",
   "name": "python3"
  },
  "language_info": {
   "codemirror_mode": {
    "name": "ipython",
    "version": 3
   },
   "file_extension": ".py",
   "mimetype": "text/x-python",
   "name": "python",
   "nbconvert_exporter": "python",
   "pygments_lexer": "ipython3",
   "version": "3.7.7"
  }
 },
 "nbformat": 4,
 "nbformat_minor": 4
}
