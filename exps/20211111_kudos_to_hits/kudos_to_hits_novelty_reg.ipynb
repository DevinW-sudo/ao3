{
 "cells": [
  {
   "cell_type": "code",
   "execution_count": 9,
   "metadata": {},
   "outputs": [],
   "source": [
    "import pandas as pd\n",
    "import os\n",
    "import matplotlib.pyplot as plt\n",
    "%matplotlib inline\n",
    "import numpy as np\n",
    "import random\n",
    "from scipy import stats, spatial\n",
    "import pickle\n",
    "from matplotlib import rc\n",
    "# rc('font',**{'family':'sans-serif','sans-serif':['Helvetica']})\n",
    "## for Palatino and other serif fonts use:\n",
    "#rc('font',**{'family':'serif','serif':['Palatino']})\n",
    "# rc('text', usetex=True)\n",
    "import csv\n",
    "from mpl_toolkits.axes_grid1 import make_axes_locatable\n",
    "from mpl_toolkits.axes_grid1.colorbar import colorbar\n",
    "\n",
    "from statsmodels.formula.api import ols\n",
    "import statsmodels.api as sm"
   ]
  },
  {
   "cell_type": "code",
   "execution_count": 2,
   "metadata": {},
   "outputs": [],
   "source": [
    "tfidf_path = '../../data/tfidf_merged_chs_20210915_no_crossover/'"
   ]
  },
  {
   "cell_type": "code",
   "execution_count": 3,
   "metadata": {},
   "outputs": [],
   "source": [
    "lda_path = '../../data/lda_merged_chs_20210915_no_crossover/'"
   ]
  },
  {
   "cell_type": "code",
   "execution_count": 4,
   "metadata": {},
   "outputs": [],
   "source": [
    "fandom_list = [\n",
    " 'harry_potter',\n",
    " 'dcu',\n",
    " 'doctor_who_&_related_fandoms',\n",
    " 'star_wars_all_media_types',\n",
    " 'arthurian_mythology_&_related_fandoms',\n",
    " 'supernatural',\n",
    " 'haikyuu',\n",
    " 'kuroko_no_basuke',\n",
    " 'hamilton_miranda',\n",
    " 'dragon_age_all_media_types',\n",
    " 'the_walking_dead_&_related_fandoms',\n",
    " 'buffy_the_vampire_slayer',\n",
    " 'naruto',\n",
    " 'tolkien_j_r_r_works_&_related_fandoms',\n",
    " 'shakespare_william_works',\n",
    " 'hetalia_axis_powers',\n",
    " 'attack_on_titan',\n",
    " 'ms_paint_adventures',\n",
    " 'marvel',\n",
    " 'bishoujo_senshi_sailor_moon',\n",
    " 'one_direction',\n",
    " 'sherlock_holmes_&_related_fandoms'\n",
    "]"
   ]
  },
  {
   "cell_type": "code",
   "execution_count": 5,
   "metadata": {},
   "outputs": [
    {
     "data": {
      "text/plain": [
       "['harry_potter',\n",
       " 'dcu',\n",
       " 'doctor_who_&_related_fandoms',\n",
       " 'star_wars_all_media_types',\n",
       " 'arthurian_mythology_&_related_fandoms',\n",
       " 'supernatural',\n",
       " 'haikyuu',\n",
       " 'kuroko_no_basuke',\n",
       " 'hamilton_miranda',\n",
       " 'dragon_age_all_media_types',\n",
       " 'the_walking_dead_&_related_fandoms',\n",
       " 'buffy_the_vampire_slayer',\n",
       " 'naruto',\n",
       " 'tolkien_j_r_r_works_&_related_fandoms',\n",
       " 'shakespare_william_works',\n",
       " 'hetalia_axis_powers',\n",
       " 'attack_on_titan',\n",
       " 'ms_paint_adventures',\n",
       " 'marvel',\n",
       " 'bishoujo_senshi_sailor_moon',\n",
       " 'one_direction',\n",
       " 'sherlock_holmes_&_related_fandoms']"
      ]
     },
     "execution_count": 5,
     "metadata": {},
     "output_type": "execute_result"
    }
   ],
   "source": [
    "fandom_list"
   ]
  },
  {
   "cell_type": "code",
   "execution_count": 6,
   "metadata": {},
   "outputs": [],
   "source": [
    "# df = pd.read_csv(os.path.join(lda_path,'sherlock_holmes_&_related_fandoms_temporal_lda_jsd_toprev_with_dist_merged_chs_no_text.tsv'), sep = '\\t')"
   ]
  },
  {
   "cell_type": "code",
   "execution_count": 7,
   "metadata": {},
   "outputs": [],
   "source": [
    "# len(df)"
   ]
  },
  {
   "cell_type": "code",
   "execution_count": 8,
   "metadata": {},
   "outputs": [],
   "source": [
    "def normalize_dfs(df):\n",
    "    \n",
    "    # normalization of the success field\n",
    "    df = df.replace([np.inf, -np.inf], np.nan)\n",
    "    df['Hits'].fillna(0, inplace=True)\n",
    "    df['Kudos'].fillna(0, inplace=True)\n",
    "    df['Bookmarks'].fillna(0, inplace=True)\n",
    "    df['Comments'].fillna(0, inplace=True)\n",
    "\n",
    "    # normalize by chapter number\n",
    "    df['Kudos'] = df['Kudos']/df['Chapters'] \n",
    "    df = df.replace([np.inf, -np.inf], np.nan)\n",
    "    df['Kudos'].dropna()\n",
    "\n",
    "    df['Hits'].dropna()\n",
    "\n",
    "    df['Bookmarks'].dropna()\n",
    "    return df"
   ]
  },
  {
   "cell_type": "code",
   "execution_count": 19,
   "metadata": {},
   "outputs": [],
   "source": [
    "coef_kudos = []\n",
    "coef_ratio = []\n",
    "for fandom in fandom_list:\n",
    "    df = pd.read_csv(os.path.join(tfidf_path, fandom + \\\n",
    "                              '_temporal_tfidf_cos_merged_chapters_no_crossover_no_sample_20210915.tsv'), sep = '\\t')\n",
    "\n",
    "    df = normalize_dfs(df)\n",
    "    df = df[df.Hits >= 10]\n",
    "    df['kudos_hit_ratio'] = df['Kudos']/df['Hits']  \n",
    "\n",
    "    df = df.replace([np.inf, -np.inf], np.nan)\n",
    "    df = df[['Cos', 'Kudos', 'kudos_hit_ratio']].dropna()\n",
    "    \n",
    "    model_kudos = ols( 'Kudos ~ Cos', data = df).fit()\n",
    "    coef_kudos.append(model_kudos.params[1])\n",
    "    \n",
    "    model_ratio = ols( 'kudos_hit_ratio ~ Cos', data = df).fit()\n",
    "    coef_ratio.append(model_ratio.params[1])\n",
    "    \n"
   ]
  },
  {
   "cell_type": "code",
   "execution_count": 20,
   "metadata": {},
   "outputs": [
    {
     "data": {
      "text/plain": [
       "[0.012920526092184702,\n",
       " 0.01709397720441167,\n",
       " -0.005986847621230688,\n",
       " 0.00401095920847256,\n",
       " -0.0030955888369591047,\n",
       " 7.257581305984608e-05,\n",
       " 0.011699898004334332,\n",
       " 0.0076183516745907,\n",
       " 0.013546441368959316,\n",
       " 0.020578174804444686,\n",
       " 0.019001395842849055,\n",
       " 0.006992970868971226,\n",
       " 0.018242442088999975,\n",
       " 0.03243545568028609,\n",
       " 0.005168509156386194,\n",
       " 0.01543532720505866,\n",
       " 0.007404758781091248,\n",
       " 0.01003399920365768,\n",
       " 0.009385394054733225,\n",
       " 0.012883672681828762,\n",
       " -0.01426148499922785,\n",
       " 0.014932814190190569]"
      ]
     },
     "execution_count": 20,
     "metadata": {},
     "output_type": "execute_result"
    }
   ],
   "source": [
    "coef_ratio"
   ]
  },
  {
   "cell_type": "code",
   "execution_count": 21,
   "metadata": {},
   "outputs": [
    {
     "data": {
      "text/plain": [
       "[-80.35968085953571,\n",
       " -79.05204306648547,\n",
       " -34.63537825145505,\n",
       " -83.28566225270812,\n",
       " -227.40414904340065,\n",
       " -75.47717270265107,\n",
       " -57.99287940039359,\n",
       " -46.15434370924313,\n",
       " -3.6431906452046423,\n",
       " -1.6405983569325713,\n",
       " -48.50499867183359,\n",
       " -9.295587574596091,\n",
       " -67.67594202919014,\n",
       " -114.72494122976956,\n",
       " 8.786778231372459,\n",
       " -9.362648844383255,\n",
       " -66.66688925954756,\n",
       " -26.270604007722305,\n",
       " -81.23460352816998,\n",
       " -9.94995283156207,\n",
       " -223.82940227070574,\n",
       " -139.62489611307728]"
      ]
     },
     "execution_count": 21,
     "metadata": {},
     "output_type": "execute_result"
    }
   ],
   "source": [
    "coef_kudos"
   ]
  },
  {
   "cell_type": "code",
   "execution_count": 23,
   "metadata": {},
   "outputs": [
    {
     "data": {
      "text/plain": [
       "Text(0.5, 1.0, 'Term novelty')"
      ]
     },
     "execution_count": 23,
     "metadata": {},
     "output_type": "execute_result"
    },
    {
     "data": {
      "image/png": "[encoded data removed]",
      "text/plain": [
       "<Figure size 432x288 with 1 Axes>"
      ]
     },
     "metadata": {
      "needs_background": "light"
     },
     "output_type": "display_data"
    }
   ],
   "source": [
    "plt.scatter(coef_kudos, coef_ratio)\n",
    "plt.xlabel('coef for raw kudos')\n",
    "plt.ylabel('coef for ratio')\n",
    "plt.title('Term novelty')"
   ]
  },
  {
   "cell_type": "code",
   "execution_count": 24,
   "metadata": {},
   "outputs": [],
   "source": [
    "coef_kudos = []\n",
    "coef_ratio = []\n",
    "for fandom in fandom_list:\n",
    "    df = pd.read_csv(os.path.join(lda_path, fandom + \\\n",
    "                               '_lda_with_dist_merged_chs_no_crossover_20210915.tsv'), sep = '\\t')\n",
    "\n",
    "    df = normalize_dfs(df)\n",
    "    df = df[df.Hits >= 10]\n",
    "    df['kudos_hit_ratio'] = df['Kudos']/df['Hits']  \n",
    "\n",
    "    df = df.replace([np.inf, -np.inf], np.nan)\n",
    "    df = df[['JSD', 'Kudos', 'kudos_hit_ratio']].dropna()\n",
    "    \n",
    "    model_kudos = ols( 'Kudos ~ JSD', data = df).fit()\n",
    "    coef_kudos.append(model_kudos.params[1])\n",
    "    \n",
    "    model_ratio = ols( 'kudos_hit_ratio ~ JSD', data = df).fit()\n",
    "    coef_ratio.append(model_ratio.params[1])\n",
    "    \n"
   ]
  },
  {
   "cell_type": "code",
   "execution_count": 25,
   "metadata": {},
   "outputs": [
    {
     "data": {
      "text/plain": [
       "Text(0.5, 1.0, 'Topic novelty')"
      ]
     },
     "execution_count": 25,
     "metadata": {},
     "output_type": "execute_result"
    },
    {
     "data": {
      "image/png": "[encoded data removed]",
      "text/plain": [
       "<Figure size 432x288 with 1 Axes>"
      ]
     },
     "metadata": {
      "needs_background": "light"
     },
     "output_type": "display_data"
    }
   ],
   "source": [
    "plt.scatter(coef_kudos, coef_ratio)\n",
    "plt.xlabel('coef for raw kudos')\n",
    "plt.ylabel('coef for ratio')\n",
    "plt.title('Topic novelty')"
   ]
  },
  {
   "cell_type": "code",
   "execution_count": null,
   "metadata": {},
   "outputs": [],
   "source": []
  }
 ],
 "metadata": {
  "anaconda-cloud": {},
  "kernelspec": {
   "display_name": "Python 3 (ipykernel)",
   "language": "python",
   "name": "python3"
  },
  "language_info": {
   "codemirror_mode": {
    "name": "ipython",
    "version": 3
   },
   "file_extension": ".py",
   "mimetype": "text/x-python",
   "name": "python",
   "nbconvert_exporter": "python",
   "pygments_lexer": "ipython3",
   "version": "3.8.11"
  }
 },
 "nbformat": 4,
 "nbformat_minor": 4
}
